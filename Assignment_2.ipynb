{
  "nbformat": 4,
  "nbformat_minor": 0,
  "metadata": {
    "colab": {
      "provenance": [],
      "authorship_tag": "ABX9TyPP20IQaFu0c1wMkoEG8lbi",
      "include_colab_link": true
    },
    "kernelspec": {
      "name": "python3",
      "display_name": "Python 3"
    },
    "language_info": {
      "name": "python"
    }
  },
  "cells": [
    {
      "cell_type": "markdown",
      "metadata": {
        "id": "view-in-github",
        "colab_type": "text"
      },
      "source": [
        "<a href=\"https://colab.research.google.com/github/DeanImoke/Dean_DTSC3020_Fall2025/blob/main/Assignment_2.ipynb\" target=\"_parent\"><img src=\"https://colab.research.google.com/assets/colab-badge.svg\" alt=\"Open In Colab\"/></a>"
      ]
    },
    {
      "cell_type": "code",
      "execution_count": 10,
      "metadata": {
        "colab": {
          "base_uri": "https://localhost:8080/"
        },
        "id": "XJHLXV0gfrwP",
        "outputId": "de933b49-2ef3-4f60-82fc-3347fd983f68"
      },
      "outputs": [
        {
          "output_type": "stream",
          "name": "stdout",
          "text": [
            "['apple', 'banana', 'orange']\n",
            "apple\n",
            "banana\n",
            "orange\n"
          ]
        }
      ],
      "source": [
        "fruits = [\"apple\" , \"banana\" , \"orange\"]\n",
        "print(fruits)\n",
        "print(fruits[0])\n",
        "print(fruits[1])\n",
        "print(fruits[2])"
      ]
    },
    {
      "cell_type": "code",
      "source": [
        "names = [\"Dean\" , \"Alex\" , \"Sarah\" , \"Julia\"]\n",
        "names[0] = \"Lucy\"\n",
        "print(names)"
      ],
      "metadata": {
        "colab": {
          "base_uri": "https://localhost:8080/"
        },
        "id": "dzH5zfvqq9iH",
        "outputId": "249d999b-0156-4e65-a35b-f08285cae51f"
      },
      "execution_count": 12,
      "outputs": [
        {
          "output_type": "stream",
          "name": "stdout",
          "text": [
            "['Lucy', 'Alex', 'Sarah', 'Julia']\n"
          ]
        }
      ]
    },
    {
      "cell_type": "code",
      "source": [
        " vehicles = [\"car\", \"truck\" , \"bus\" , \"motorcycle\" , \"boat\"]\n",
        " vehicles.append(\"airplane\")\n",
        " print(vehicles)"
      ],
      "metadata": {
        "colab": {
          "base_uri": "https://localhost:8080/"
        },
        "id": "vui4fSFIvbF_",
        "outputId": "70331236-99ec-46da-eff9-908a3b198f39"
      },
      "execution_count": 13,
      "outputs": [
        {
          "output_type": "stream",
          "name": "stdout",
          "text": [
            "['car', 'truck', 'bus', 'motorcycle', 'boat', 'airplane']\n"
          ]
        }
      ]
    },
    {
      "cell_type": "code",
      "source": [
        "foods = [\"burger\", \"sandwich\", \"steak\", \"pasta\", \"pizza\", \"sushi\"]\n",
        "foods.remove(\"sushi\")\n",
        "print(foods)"
      ],
      "metadata": {
        "colab": {
          "base_uri": "https://localhost:8080/"
        },
        "id": "OGXKhLm00mfk",
        "outputId": "e0716bb5-3555-4c01-d9af-00f2b1f853a8"
      },
      "execution_count": 15,
      "outputs": [
        {
          "output_type": "stream",
          "name": "stdout",
          "text": [
            "['burger', 'sandwich', 'steak', 'pasta', 'pizza']\n"
          ]
        }
      ]
    },
    {
      "cell_type": "code",
      "source": [
        "cities = [\"Dallas\", \"Baltimore\", \"Miami\", \"New York\"]\n",
        "cities.sort()\n",
        "print(cities)\n",
        "cities.sort(reverse=True)\n",
        "print(cities)"
      ],
      "metadata": {
        "colab": {
          "base_uri": "https://localhost:8080/"
        },
        "id": "2V-GVJlA1u7k",
        "outputId": "d7392e1f-e0ae-4a4f-f62d-4e7a77d125f5"
      },
      "execution_count": 17,
      "outputs": [
        {
          "output_type": "stream",
          "name": "stdout",
          "text": [
            "['Baltimore', 'Dallas', 'Miami', 'New York']\n",
            "['New York', 'Miami', 'Dallas', 'Baltimore']\n"
          ]
        }
      ]
    },
    {
      "cell_type": "code",
      "source": [
        "animals = [\"dog\", \"cat\", \"shark\"]\n",
        "for animal in animals:\n",
        "    print(animal)"
      ],
      "metadata": {
        "colab": {
          "base_uri": "https://localhost:8080/"
        },
        "id": "x2wfBkvN3Fuz",
        "outputId": "687e96b5-e88e-4d1f-bdb8-4080b250a9af"
      },
      "execution_count": 20,
      "outputs": [
        {
          "output_type": "stream",
          "name": "stdout",
          "text": [
            "dog\n",
            "cat\n",
            "shark\n"
          ]
        }
      ]
    },
    {
      "cell_type": "code",
      "source": [
        "numbers = [1, 2, 3, 4, 5]\n",
        "for number in numbers:\n",
        "    print(number * 2)"
      ],
      "metadata": {
        "colab": {
          "base_uri": "https://localhost:8080/"
        },
        "id": "Fp4Zjtm54dcm",
        "outputId": "b103582c-7147-460b-f5c8-4827049a5501"
      },
      "execution_count": 23,
      "outputs": [
        {
          "output_type": "stream",
          "name": "stdout",
          "text": [
            "2\n",
            "4\n",
            "6\n",
            "8\n",
            "10\n"
          ]
        }
      ]
    },
    {
      "cell_type": "code",
      "source": [
        "friends = [\"Jane\", \"Lucy\", \"Dean\", \"Alex\", \"Sam\", \"Sofia\"]\n",
        "print(friends[0:3])\n",
        "print(friends[3:])"
      ],
      "metadata": {
        "colab": {
          "base_uri": "https://localhost:8080/"
        },
        "id": "VJQj1b2y5e83",
        "outputId": "0b989711-4471-4143-c275-e02e8919b5eb"
      },
      "execution_count": 25,
      "outputs": [
        {
          "output_type": "stream",
          "name": "stdout",
          "text": [
            "['Jane', 'Lucy', 'Dean']\n",
            "['Alex', 'Sam', 'Sofia']\n"
          ]
        }
      ]
    },
    {
      "cell_type": "code",
      "source": [
        "number = list(range(1, 11))\n",
        "print(number)"
      ],
      "metadata": {
        "colab": {
          "base_uri": "https://localhost:8080/"
        },
        "id": "D4cs2sKV6W_B",
        "outputId": "e3e2acdd-2b11-42a9-aaf2-0b8c20aabedd"
      },
      "execution_count": 29,
      "outputs": [
        {
          "output_type": "stream",
          "name": "stdout",
          "text": [
            "[1, 2, 3, 4, 5, 6, 7, 8, 9, 10]\n"
          ]
        }
      ]
    },
    {
      "cell_type": "code",
      "source": [
        "square = [value**2 for value in range(1, 6)]\n",
        "print(square)"
      ],
      "metadata": {
        "colab": {
          "base_uri": "https://localhost:8080/"
        },
        "id": "yfA930Y77YFL",
        "outputId": "67b83bfa-79c7-47e9-9602-0de96278a769"
      },
      "execution_count": 30,
      "outputs": [
        {
          "output_type": "stream",
          "name": "stdout",
          "text": [
            "[1, 4, 9, 16, 25]\n"
          ]
        }
      ]
    },
    {
      "cell_type": "markdown",
      "source": [],
      "metadata": {
        "id": "0EdJAmK-1TuX"
      }
    },
    {
      "cell_type": "markdown",
      "source": [],
      "metadata": {
        "id": "vszyQLjLyEBH"
      }
    }
  ]
}